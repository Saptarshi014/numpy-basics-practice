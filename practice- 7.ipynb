{
 "cells": [
  {
   "cell_type": "markdown",
   "metadata": {},
   "source": [
    "# Real World (Data Science) Problems"
   ]
  },
  {
   "cell_type": "code",
   "execution_count": 1,
   "metadata": {},
   "outputs": [],
   "source": [
    "import numpy as np"
   ]
  },
  {
   "cell_type": "markdown",
   "metadata": {},
   "source": [
    " 1: House Prices in Kolkata"
   ]
  },
  {
   "cell_type": "code",
   "execution_count": 2,
   "metadata": {},
   "outputs": [
    {
     "name": "stdout",
     "output_type": "stream",
     "text": [
      "House Prices: [1000000 1500000 2000000 2500000 3000000 3500000 4000000 4500000 5000000\n",
      " 5500000]\n",
      "Normalized Prices: [0.         0.11111111 0.22222222 0.33333333 0.44444444 0.55555556\n",
      " 0.66666667 0.77777778 0.88888889 1.        ]\n",
      "90th Percentile Threshold: 5050000.0\n",
      "Houses above 90th percentile: [5500000]\n"
     ]
    }
   ],
   "source": [
    "# Given an array of house prices, normalize it and find houses above the 90th percentile.\n",
    "house_prices = np.array([1000000, 1500000, 2000000, 2500000, 3000000, \n",
    "                         3500000, 4000000, 4500000, 5000000, 5500000])\n",
    "# Normalize: (value - min) / (max - min) => scales values to [0, 1]\n",
    "normalized_prices = (house_prices - house_prices.min()) / (house_prices.max() - house_prices.min())\n",
    "\n",
    "# Compute the 90th percentile threshold based on the original prices.\n",
    "threshold = np.percentile(house_prices, 90)\n",
    "# Extract houses priced above the 90th percentile.\n",
    "houses_above_90 = house_prices[house_prices > threshold]\n",
    "\n",
    "print(\"House Prices:\", house_prices)\n",
    "print(\"Normalized Prices:\", normalized_prices)\n",
    "print(\"90th Percentile Threshold:\", threshold)\n",
    "print(\"Houses above 90th percentile:\", houses_above_90)\n"
   ]
  },
  {
   "cell_type": "markdown",
   "metadata": {},
   "source": [
    "2: Exam Scores Pass/Fail"
   ]
  },
  {
   "cell_type": "code",
   "execution_count": 3,
   "metadata": {},
   "outputs": [
    {
     "name": "stdout",
     "output_type": "stream",
     "text": [
      "\n",
      "Exam Scores: [35 42 39 55 70 28 90 40 38]\n",
      "Pass/Fail Results: ['Fail' 'Pass' 'Fail' 'Pass' 'Pass' 'Fail' 'Pass' 'Pass' 'Fail']\n"
     ]
    }
   ],
   "source": [
    "# Given an array of exam scores, replace any scores below 40 with \"Fail\" and the rest with \"Pass\".\n",
    "exam_scores = np.array([35, 42, 39, 55, 70, 28, 90, 40, 38])\n",
    "# Use np.where to apply conditional logic: score < 40 → \"Fail\", else → \"Pass\"\n",
    "results = np.where(exam_scores < 40, \"Fail\", \"Pass\")\n",
    "\n",
    "print(\"\\nExam Scores:\", exam_scores)\n",
    "print(\"Pass/Fail Results:\", results)\n"
   ]
  },
  {
   "cell_type": "markdown",
   "metadata": {},
   "source": [
    " 3: Calculate Accuracy from Actual and Predicted Labels"
   ]
  },
  {
   "cell_type": "code",
   "execution_count": 4,
   "metadata": {},
   "outputs": [
    {
     "name": "stdout",
     "output_type": "stream",
     "text": [
      "\n",
      "Actual Labels: [0 1 1 0 1 0 1 0]\n",
      "Predicted Labels: [0 1 0 0 1 0 1 1]\n",
      "Accuracy: 0.75\n"
     ]
    }
   ],
   "source": [
    "# Given binary actual labels and predicted labels (0 or 1), calculate the accuracy.\n",
    "actual_labels = np.array([0, 1, 1, 0, 1, 0, 1, 0])\n",
    "predicted_labels = np.array([0, 1, 0, 0, 1, 0, 1, 1])\n",
    "# Accuracy is the fraction of labels that match.\n",
    "accuracy = np.mean(actual_labels == predicted_labels)\n",
    "\n",
    "print(\"\\nActual Labels:\", actual_labels)\n",
    "print(\"Predicted Labels:\", predicted_labels)\n",
    "print(\"Accuracy:\", accuracy)"
   ]
  }
 ],
 "metadata": {
  "kernelspec": {
   "display_name": "base",
   "language": "python",
   "name": "python3"
  },
  "language_info": {
   "codemirror_mode": {
    "name": "ipython",
    "version": 3
   },
   "file_extension": ".py",
   "mimetype": "text/x-python",
   "name": "python",
   "nbconvert_exporter": "python",
   "pygments_lexer": "ipython3",
   "version": "3.12.4"
  }
 },
 "nbformat": 4,
 "nbformat_minor": 2
}
