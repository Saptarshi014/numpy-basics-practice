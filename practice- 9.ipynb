{
 "cells": [
  {
   "cell_type": "markdown",
   "metadata": {},
   "source": [
    "# 2. Sales Data Analysis"
   ]
  },
  {
   "cell_type": "code",
   "execution_count": 1,
   "metadata": {},
   "outputs": [],
   "source": [
    "import numpy as np"
   ]
  },
  {
   "cell_type": "markdown",
   "metadata": {},
   "source": [
    "i:  Data Setup"
   ]
  },
  {
   "cell_type": "code",
   "execution_count": 3,
   "metadata": {},
   "outputs": [
    {
     "name": "stdout",
     "output_type": "stream",
     "text": [
      "Sales Data (Rows = Days, Columns = Products):\n",
      "[[360 280 144]\n",
      " [228 284 170]\n",
      " [151 440 433]\n",
      " [493 343 335]\n",
      " [332 123 442]\n",
      " [347 488 287]\n",
      " [461 229 174]]\n"
     ]
    }
   ],
   "source": [
    "\n",
    "# Create a 7x3 sales data array, where each entry is a random integer between 50 and 500.\n",
    "sales_data = np.random.randint(50, 500, (7, 3))\n",
    "print(\"Sales Data (Rows = Days, Columns = Products):\")\n",
    "print(sales_data)\n"
   ]
  },
  {
   "cell_type": "markdown",
   "metadata": {},
   "source": [
    "ii: Calculate Total Sales for Each Product"
   ]
  },
  {
   "cell_type": "code",
   "execution_count": 4,
   "metadata": {},
   "outputs": [
    {
     "name": "stdout",
     "output_type": "stream",
     "text": [
      "Total sales for each product: [2372 2187 1985]\n"
     ]
    }
   ],
   "source": [
    "# Sum sales over rows (each product's sales over all days)\n",
    "total_sales_per_product = np.sum(sales_data, axis=0)\n",
    "print(\"Total sales for each product:\", total_sales_per_product)\n"
   ]
  },
  {
   "cell_type": "markdown",
   "metadata": {},
   "source": [
    "iii:  Identify the Day with the Highest Total Sales"
   ]
  },
  {
   "cell_type": "code",
   "execution_count": 5,
   "metadata": {},
   "outputs": [
    {
     "name": "stdout",
     "output_type": "stream",
     "text": [
      "Total sales per day: [ 784  682 1024 1171  897 1122  864]\n",
      "Day with the highest total sales (0-indexed): 3\n",
      "Day with the highest total sales (1-indexed): 4\n"
     ]
    }
   ],
   "source": [
    "# Sum sales across products for each day\n",
    "daily_totals = np.sum(sales_data, axis=1)\n",
    "print(\"Total sales per day:\", daily_totals)\n",
    "\n",
    "# Identify the day (index) with the highest total sales\n",
    "max_day_index = np.argmax(daily_totals)\n",
    "print(\"Day with the highest total sales (0-indexed):\", max_day_index)\n",
    "print(\"Day with the highest total sales (1-indexed):\", max_day_index + 1)\n"
   ]
  },
  {
   "cell_type": "markdown",
   "metadata": {},
   "source": [
    "iv: Compute the Average Daily Sales Across All Products"
   ]
  },
  {
   "cell_type": "code",
   "execution_count": 6,
   "metadata": {},
   "outputs": [
    {
     "name": "stdout",
     "output_type": "stream",
     "text": [
      "Average daily sales across all products: 311.6190476190476\n"
     ]
    }
   ],
   "source": [
    "# Calculate the average of all sales data entries\n",
    "average_daily_sales = np.mean(sales_data)\n",
    "print(\"Average daily sales across all products:\", average_daily_sales)\n"
   ]
  }
 ],
 "metadata": {
  "kernelspec": {
   "display_name": "base",
   "language": "python",
   "name": "python3"
  },
  "language_info": {
   "codemirror_mode": {
    "name": "ipython",
    "version": 3
   },
   "file_extension": ".py",
   "mimetype": "text/x-python",
   "name": "python",
   "nbconvert_exporter": "python",
   "pygments_lexer": "ipython3",
   "version": "3.12.4"
  }
 },
 "nbformat": 4,
 "nbformat_minor": 2
}
