{
 "cells": [
  {
   "cell_type": "markdown",
   "metadata": {},
   "source": [
    "#  Broadcasting & Performance"
   ]
  },
  {
   "cell_type": "code",
   "execution_count": 1,
   "metadata": {},
   "outputs": [],
   "source": [
    "import numpy as np\n",
    "import time"
   ]
  },
  {
   "cell_type": "markdown",
   "metadata": {},
   "source": [
    "1.  Broadcasting: Adding two arrays."
   ]
  },
  {
   "cell_type": "code",
   "execution_count": 2,
   "metadata": {},
   "outputs": [
    {
     "name": "stdout",
     "output_type": "stream",
     "text": [
      "Broadcasted addition of arr1 and arr2:\n",
      " [[11 12 13]\n",
      " [21 22 23]\n",
      " [31 32 33]]\n"
     ]
    }
   ],
   "source": [
    "arr1 = np.array([1, 2, 3])\n",
    "arr2 = np.array([[10], [20], [30]])\n",
    "broadcast_sum = arr1 + arr2\n",
    "print(\"Broadcasted addition of arr1 and arr2:\\n\", broadcast_sum)"
   ]
  },
  {
   "cell_type": "markdown",
   "metadata": {},
   "source": [
    "2. Subtract the row mean from each row in a 3x4 matrix."
   ]
  },
  {
   "cell_type": "code",
   "execution_count": 3,
   "metadata": {},
   "outputs": [
    {
     "name": "stdout",
     "output_type": "stream",
     "text": [
      "\n",
      "Original 3x4 matrix:\n",
      " [[0.46164266 0.90462139 0.94890201 0.08948277]\n",
      " [0.67564927 0.55086506 0.9453881  0.56647592]\n",
      " [0.28264631 0.55838215 0.97604703 0.24897076]]\n",
      "\n",
      "Row means:\n",
      " [[0.60116221]\n",
      " [0.68459459]\n",
      " [0.51651156]]\n",
      "\n",
      "Matrix after subtracting row means:\n",
      " [[-0.13951955  0.30345919  0.3477398  -0.51167944]\n",
      " [-0.00894532 -0.13372952  0.26079351 -0.11811867]\n",
      " [-0.23386525  0.04187059  0.45953547 -0.26754081]]\n"
     ]
    }
   ],
   "source": [
    "matrix = np.random.rand(3, 4)\n",
    "row_means = np.mean(matrix, axis=1, keepdims=True)\n",
    "centered_matrix = matrix - row_means\n",
    "print(\"\\nOriginal 3x4 matrix:\\n\", matrix)\n",
    "print(\"\\nRow means:\\n\", row_means)\n",
    "print(\"\\nMatrix after subtracting row means:\\n\", centered_matrix)"
   ]
  },
  {
   "cell_type": "markdown",
   "metadata": {},
   "source": [
    "3. Performance: Multiply a 1000x1000 random matrix with its transpose."
   ]
  },
  {
   "cell_type": "code",
   "execution_count": 4,
   "metadata": {},
   "outputs": [
    {
     "name": "stdout",
     "output_type": "stream",
     "text": [
      "\n",
      "Time taken to multiply 1000x1000 matrix with its transpose: 0.07182 seconds\n"
     ]
    }
   ],
   "source": [
    "large_matrix = np.random.rand(1000, 1000)\n",
    "start_time = time.time()\n",
    "result = np.dot(large_matrix, large_matrix.T)\n",
    "end_time = time.time()\n",
    "print(\"\\nTime taken to multiply 1000x1000 matrix with its transpose: {:.5f} seconds\".format(end_time - start_time))"
   ]
  },
  {
   "cell_type": "markdown",
   "metadata": {},
   "source": [
    "4. Rotate a 5x5 matrix 90 degrees clockwise without using a loop."
   ]
  },
  {
   "cell_type": "code",
   "execution_count": 5,
   "metadata": {},
   "outputs": [
    {
     "name": "stdout",
     "output_type": "stream",
     "text": [
      "Original Matrix:\n",
      "[[ 1  2  3  4  5]\n",
      " [ 6  7  8  9 10]\n",
      " [11 12 13 14 15]\n",
      " [16 17 18 19 20]\n",
      " [21 22 23 24 25]]\n",
      "\n",
      "Rotated Matrix (90 degrees clockwise):\n",
      "[[21 16 11  6  1]\n",
      " [22 17 12  7  2]\n",
      " [23 18 13  8  3]\n",
      " [24 19 14  9  4]\n",
      " [25 20 15 10  5]]\n"
     ]
    }
   ],
   "source": [
    "import numpy as np\n",
    "\n",
    "# Create a sample 5x5 matrix.\n",
    "matrix = np.arange(1, 26).reshape(5, 5)\n",
    "print(\"Original Matrix:\")\n",
    "print(matrix)\n",
    "\n",
    "# Rotate the matrix 90 degrees clockwise.\n",
    "# Method 1: Using numpy.rot90 with a negative k.\n",
    "rotated_matrix = np.rot90(matrix, k=-1)\n",
    "\n",
    "# Alternatively, you can transpose and then reverse the rows:\n",
    "# rotated_matrix = matrix.T[::-1, :]\n",
    "\n",
    "print(\"\\nRotated Matrix (90 degrees clockwise):\")\n",
    "print(rotated_matrix)\n"
   ]
  }
 ],
 "metadata": {
  "kernelspec": {
   "display_name": "base",
   "language": "python",
   "name": "python3"
  },
  "language_info": {
   "codemirror_mode": {
    "name": "ipython",
    "version": 3
   },
   "file_extension": ".py",
   "mimetype": "text/x-python",
   "name": "python",
   "nbconvert_exporter": "python",
   "pygments_lexer": "ipython3",
   "version": "3.12.4"
  }
 },
 "nbformat": 4,
 "nbformat_minor": 2
}
