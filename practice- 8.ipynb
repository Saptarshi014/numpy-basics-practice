{
 "cells": [
  {
   "cell_type": "markdown",
   "metadata": {},
   "source": [
    "# 1. Customer Churn Analysis"
   ]
  },
  {
   "cell_type": "code",
   "execution_count": 1,
   "metadata": {},
   "outputs": [],
   "source": [
    "import numpy as np"
   ]
  },
  {
   "cell_type": "markdown",
   "metadata": {},
   "source": [
    "i: Data Setup"
   ]
  },
  {
   "cell_type": "code",
   "execution_count": 2,
   "metadata": {},
   "outputs": [
    {
     "name": "stdout",
     "output_type": "stream",
     "text": [
      "Customer IDs: [1001 1002 1003 1004 1005 1006 1007 1008 1009 1010 1011 1012 1013 1014\n",
      " 1015 1016 1017 1018 1019 1020]\n",
      "Monthly Charges: [ 504 1333 1081 1714 1537  753 2730 1110 2435  516  902 1132 2654 2416\n",
      " 2670 2844  621 1836 1110 1962]\n",
      "Churn Status: [0 0 0 1 0 0 1 0 1 0 0 1 1 0 0 0 0 0 0 1]\n"
     ]
    }
   ],
   "source": [
    "import numpy as np\n",
    "\n",
    "# Create arrays\n",
    "customer_ids = np.arange(1001, 1021)\n",
    "monthly_charges = np.random.randint(500, 3000, size=20)\n",
    "churn_status = np.random.choice([0, 1], size=20, p=[0.7, 0.3])  # 1 means churned\n",
    "\n",
    "# Print the data to see what we're working with\n",
    "print(\"Customer IDs:\", customer_ids)\n",
    "print(\"Monthly Charges:\", monthly_charges)\n",
    "print(\"Churn Status:\", churn_status)\n"
   ]
  },
  {
   "cell_type": "markdown",
   "metadata": {},
   "source": [
    "ii:  Count the Number of Customers Who Churned"
   ]
  },
  {
   "cell_type": "code",
   "execution_count": 3,
   "metadata": {},
   "outputs": [
    {
     "name": "stdout",
     "output_type": "stream",
     "text": [
      "Number of churned customers: 6\n"
     ]
    }
   ],
   "source": [
    "# Count how many customers churned (churn_status == 1)\n",
    "num_churned = np.sum(churn_status == 1)\n",
    "print(\"Number of churned customers:\", num_churned)\n"
   ]
  },
  {
   "cell_type": "markdown",
   "metadata": {},
   "source": [
    "iii: Calculate the Average Monthly Charge for Churned Customers"
   ]
  },
  {
   "cell_type": "code",
   "execution_count": 4,
   "metadata": {},
   "outputs": [
    {
     "name": "stdout",
     "output_type": "stream",
     "text": [
      "Average monthly charge for churned customers: 2104.5\n"
     ]
    }
   ],
   "source": [
    "# Calculate the average monthly charge for churned customers\n",
    "if num_churned > 0:\n",
    "    avg_charge_churned = np.mean(monthly_charges[churn_status == 1])\n",
    "else:\n",
    "    avg_charge_churned = None  # or handle accordingly if no customers churned\n",
    "\n",
    "print(\"Average monthly charge for churned customers:\", avg_charge_churned)\n"
   ]
  },
  {
   "cell_type": "markdown",
   "metadata": {},
   "source": [
    "iv: Identify Customer IDs with Monthly Charges Above 2000 and Who Churned"
   ]
  },
  {
   "cell_type": "code",
   "execution_count": 5,
   "metadata": {},
   "outputs": [
    {
     "name": "stdout",
     "output_type": "stream",
     "text": [
      "Customer IDs with monthly charges above 2000 and churned: [1007 1009 1013]\n"
     ]
    }
   ],
   "source": [
    "# Create a mask for customers with monthly charges above 2000 and who churned\n",
    "mask = (monthly_charges > 2000) & (churn_status == 1)\n",
    "selected_ids = customer_ids[mask]\n",
    "\n",
    "print(\"Customer IDs with monthly charges above 2000 and churned:\", selected_ids)\n"
   ]
  }
 ],
 "metadata": {
  "kernelspec": {
   "display_name": "base",
   "language": "python",
   "name": "python3"
  },
  "language_info": {
   "codemirror_mode": {
    "name": "ipython",
    "version": 3
   },
   "file_extension": ".py",
   "mimetype": "text/x-python",
   "name": "python",
   "nbconvert_exporter": "python",
   "pygments_lexer": "ipython3",
   "version": "3.12.4"
  }
 },
 "nbformat": 4,
 "nbformat_minor": 2
}
