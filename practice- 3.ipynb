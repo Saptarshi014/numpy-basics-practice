{
 "cells": [
  {
   "cell_type": "markdown",
   "metadata": {},
   "source": [
    "# Boolean Masking & Conditional Logic"
   ]
  },
  {
   "cell_type": "code",
   "execution_count": 6,
   "metadata": {},
   "outputs": [],
   "source": [
    "import numpy as np"
   ]
  },
  {
   "cell_type": "markdown",
   "metadata": {},
   "source": [
    "Create an array of 20 random integers from 1 to 100:\n",
    "\n"
   ]
  },
  {
   "cell_type": "code",
   "execution_count": 7,
   "metadata": {},
   "outputs": [
    {
     "name": "stdout",
     "output_type": "stream",
     "text": [
      "Original array: [ 57   6   5 100  10  44  21 100  29  27  19  19  36  58  88  89  45  50\n",
      "  72  63]\n"
     ]
    }
   ],
   "source": [
    "random_array = np.random.randint(1, 101, 20)\n",
    "print(\"Original array:\", random_array)"
   ]
  },
  {
   "cell_type": "markdown",
   "metadata": {},
   "source": [
    "Extract elements greater than 50."
   ]
  },
  {
   "cell_type": "code",
   "execution_count": 13,
   "metadata": {},
   "outputs": [
    {
     "name": "stdout",
     "output_type": "stream",
     "text": [
      "\n",
      "Elements greater than 50: [ 57 100 100  58  88  89  72  63]\n"
     ]
    }
   ],
   "source": [
    "greater_than_50 = random_array[random_array > 50]\n",
    "print(\"\\nElements greater than 50:\", greater_than_50)\n"
   ]
  },
  {
   "cell_type": "markdown",
   "metadata": {},
   "source": [
    "Replace all even numbers with -1."
   ]
  },
  {
   "cell_type": "code",
   "execution_count": 12,
   "metadata": {},
   "outputs": [
    {
     "name": "stdout",
     "output_type": "stream",
     "text": [
      "\n",
      "Array after replacing even numbers with -1: [57 -1  5 -1 -1 -1 21 -1 29 27 19 19 -1 -1 -1 89 45 -1 -1 63]\n"
     ]
    }
   ],
   "source": [
    "modified_array = random_array.copy()\n",
    "modified_array[modified_array % 2 == 0] = -1\n",
    "print(\"\\nArray after replacing even numbers with -1:\", modified_array)"
   ]
  }
 ],
 "metadata": {
  "kernelspec": {
   "display_name": "base",
   "language": "python",
   "name": "python3"
  },
  "language_info": {
   "codemirror_mode": {
    "name": "ipython",
    "version": 3
   },
   "file_extension": ".py",
   "mimetype": "text/x-python",
   "name": "python",
   "nbconvert_exporter": "python",
   "pygments_lexer": "ipython3",
   "version": "3.12.4"
  }
 },
 "nbformat": 4,
 "nbformat_minor": 2
}
