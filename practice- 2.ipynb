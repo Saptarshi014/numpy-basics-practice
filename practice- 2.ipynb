{
 "cells": [
  {
   "cell_type": "markdown",
   "metadata": {},
   "source": [
    "#  Array Operations & Manipulations"
   ]
  },
  {
   "cell_type": "markdown",
   "metadata": {},
   "source": [
    "1. Reverse an array (first element becomes last)."
   ]
  },
  {
   "cell_type": "code",
   "execution_count": 3,
   "metadata": {},
   "outputs": [
    {
     "name": "stdout",
     "output_type": "stream",
     "text": [
      "Original array: [1 2 3 4 5]\n",
      "Reversed array: [5 4 3 2 1]\n"
     ]
    }
   ],
   "source": [
    "import numpy as np\n",
    "\n",
    "original_array = np.array([1, 2, 3, 4, 5])\n",
    "reversed_array = original_array[::-1]\n",
    "print(\"Original array:\", original_array)\n",
    "print(\"Reversed array:\", reversed_array)"
   ]
  },
  {
   "cell_type": "markdown",
   "metadata": {},
   "source": [
    "Create a 1D array of 50 evenly spaced values between 2 and 10."
   ]
  },
  {
   "cell_type": "code",
   "execution_count": 4,
   "metadata": {},
   "outputs": [
    {
     "name": "stdout",
     "output_type": "stream",
     "text": [
      "\n",
      "1D array of 50 evenly spaced values between 2 and 10:\n",
      " [ 2.          2.16326531  2.32653061  2.48979592  2.65306122  2.81632653\n",
      "  2.97959184  3.14285714  3.30612245  3.46938776  3.63265306  3.79591837\n",
      "  3.95918367  4.12244898  4.28571429  4.44897959  4.6122449   4.7755102\n",
      "  4.93877551  5.10204082  5.26530612  5.42857143  5.59183673  5.75510204\n",
      "  5.91836735  6.08163265  6.24489796  6.40816327  6.57142857  6.73469388\n",
      "  6.89795918  7.06122449  7.2244898   7.3877551   7.55102041  7.71428571\n",
      "  7.87755102  8.04081633  8.20408163  8.36734694  8.53061224  8.69387755\n",
      "  8.85714286  9.02040816  9.18367347  9.34693878  9.51020408  9.67346939\n",
      "  9.83673469 10.        ]\n"
     ]
    }
   ],
   "source": [
    "evenly_spaced = np.linspace(2, 10, 50)\n",
    "print(\"\\n1D array of 50 evenly spaced values between 2 and 10:\\n\", evenly_spaced)\n"
   ]
  },
  {
   "cell_type": "markdown",
   "metadata": {},
   "source": [
    "Reshape the array [1,2,3,4,5,6,7,8,9] into a 3x3 matrix."
   ]
  },
  {
   "cell_type": "code",
   "execution_count": 5,
   "metadata": {},
   "outputs": [
    {
     "name": "stdout",
     "output_type": "stream",
     "text": [
      "\n",
      "3x3 matrix from the array [1,2,3,4,5,6,7,8,9]:\n",
      " [[1 2 3]\n",
      " [4 5 6]\n",
      " [7 8 9]]\n"
     ]
    }
   ],
   "source": [
    "arr_1_to_9 = np.array([1,2,3,4,5,6,7,8,9])\n",
    "matrix_3x3 = arr_1_to_9.reshape(3, 3)\n",
    "print(\"\\n3x3 matrix from the array [1,2,3,4,5,6,7,8,9]:\\n\", matrix_3x3)"
   ]
  },
  {
   "cell_type": "markdown",
   "metadata": {},
   "source": [
    "Replace all elements greater than 5 in an array with 0."
   ]
  },
  {
   "cell_type": "code",
   "execution_count": 6,
   "metadata": {},
   "outputs": [
    {
     "name": "stdout",
     "output_type": "stream",
     "text": [
      "\n",
      "Modified array with elements greater than 5 replaced with 0:\n",
      " [2 0 4 0 3 0 5]\n"
     ]
    }
   ],
   "source": [
    "modified_array = original_array.copy()\n",
    "modified_array[modified_array > 5] = 0  # No effect here since original_array has max 5.\n",
    "# Let's create a new array that has some values > 5:\n",
    "sample_array = np.array([2, 6, 4, 8, 3, 7, 5])\n",
    "sample_array[sample_array > 5] = 0\n",
    "print(\"\\nModified array with elements greater than 5 replaced with 0:\\n\", sample_array)"
   ]
  },
  {
   "cell_type": "markdown",
   "metadata": {},
   "source": [
    "Multiply a 5x3 matrix by a 3x2 matrix (dot product)."
   ]
  },
  {
   "cell_type": "code",
   "execution_count": 7,
   "metadata": {},
   "outputs": [
    {
     "name": "stdout",
     "output_type": "stream",
     "text": [
      "\n",
      "Matrix A (5x3):\n",
      " [[ 1  2  3]\n",
      " [ 4  5  6]\n",
      " [ 7  8  9]\n",
      " [10 11 12]\n",
      " [13 14 15]]\n",
      "Matrix B (3x2):\n",
      " [[1 2]\n",
      " [3 4]\n",
      " [5 6]]\n",
      "Dot product (5x2 matrix):\n",
      " [[ 22  28]\n",
      " [ 49  64]\n",
      " [ 76 100]\n",
      " [103 136]\n",
      " [130 172]]\n"
     ]
    }
   ],
   "source": [
    "A = np.arange(1, 16).reshape(5, 3)  # 5x3 matrix with values 1 to 15.\n",
    "B = np.arange(1, 7).reshape(3, 2)    # 3x2 matrix with values 1 to 6.\n",
    "dot_product = np.dot(A, B)\n",
    "print(\"\\nMatrix A (5x3):\\n\", A)\n",
    "print(\"Matrix B (3x2):\\n\", B)\n",
    "print(\"Dot product (5x2 matrix):\\n\", dot_product)"
   ]
  },
  {
   "cell_type": "markdown",
   "metadata": {},
   "source": [
    "Flatten a multidimensional array."
   ]
  },
  {
   "cell_type": "code",
   "execution_count": 8,
   "metadata": {},
   "outputs": [
    {
     "name": "stdout",
     "output_type": "stream",
     "text": [
      "\n",
      "Original multidimensional array:\n",
      " [[1 2 3]\n",
      " [4 5 6]]\n",
      "Flattened array:\n",
      " [1 2 3 4 5 6]\n"
     ]
    }
   ],
   "source": [
    "multidim_array = np.array([[1, 2, 3], [4, 5, 6]])\n",
    "flattened_array = multidim_array.flatten()\n",
    "print(\"\\nOriginal multidimensional array:\\n\", multidim_array)\n",
    "print(\"Flattened array:\\n\", flattened_array)"
   ]
  }
 ],
 "metadata": {
  "kernelspec": {
   "display_name": "base",
   "language": "python",
   "name": "python3"
  },
  "language_info": {
   "codemirror_mode": {
    "name": "ipython",
    "version": 3
   },
   "file_extension": ".py",
   "mimetype": "text/x-python",
   "name": "python",
   "nbconvert_exporter": "python",
   "pygments_lexer": "ipython3",
   "version": "3.12.4"
  }
 },
 "nbformat": 4,
 "nbformat_minor": 2
}
