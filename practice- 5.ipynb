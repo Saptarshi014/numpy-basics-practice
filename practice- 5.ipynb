{
 "cells": [
  {
   "cell_type": "markdown",
   "metadata": {},
   "source": [
    "# Mathematical & Statistical Operations\n"
   ]
  },
  {
   "cell_type": "code",
   "execution_count": 12,
   "metadata": {},
   "outputs": [],
   "source": [
    "import numpy as np"
   ]
  },
  {
   "cell_type": "markdown",
   "metadata": {},
   "source": [
    "1. Find the mean, median, standard deviation, and variance of a random array of size 10."
   ]
  },
  {
   "cell_type": "code",
   "execution_count": 13,
   "metadata": {},
   "outputs": [
    {
     "name": "stdout",
     "output_type": "stream",
     "text": [
      "Random array of size 10:\n",
      " [0.70602272 0.48509909 0.4156897  0.49579353 0.42356199 0.91518786\n",
      " 0.63062454 0.07439949 0.02014084 0.98318194]\n",
      "\n",
      "Mean: 0.5149701719140829\n",
      "Median: 0.4904463123670703\n",
      "Standard Deviation: 0.2979436420019657\n",
      "Variance: 0.08877041380939552\n"
     ]
    }
   ],
   "source": [
    "random_array = np.random.rand(10)  # Generates 10 random floats between 0 and 1.\n",
    "mean_val = np.mean(random_array)\n",
    "median_val = np.median(random_array)\n",
    "std_val = np.std(random_array)\n",
    "var_val = np.var(random_array)\n",
    "\n",
    "print(\"Random array of size 10:\\n\", random_array)\n",
    "print(\"\\nMean:\", mean_val)\n",
    "print(\"Median:\", median_val)\n",
    "print(\"Standard Deviation:\", std_val)\n",
    "print(\"Variance:\", var_val)"
   ]
  },
  {
   "cell_type": "markdown",
   "metadata": {},
   "source": [
    "2. Normalize a random 5x5 matrix (so all values are between 0 and 1)."
   ]
  },
  {
   "cell_type": "code",
   "execution_count": 14,
   "metadata": {},
   "outputs": [
    {
     "name": "stdout",
     "output_type": "stream",
     "text": [
      "\n",
      "Random 5x5 matrix:\n",
      " [[0.42717367 0.21059353 0.04466187 0.63403708 0.01190928]\n",
      " [0.89994879 0.67325985 0.86952567 0.72533906 0.90215684]\n",
      " [0.20029846 0.83982207 0.95478647 0.56263314 0.72592071]\n",
      " [0.49280955 0.66126162 0.55043582 0.1429673  0.29827324]\n",
      " [0.78118476 0.44589219 0.78610623 0.76179763 0.52159594]]\n",
      "\n",
      "Normalized 5x5 matrix:\n",
      " [[0.42717367 0.21059353 0.04466187 0.63403708 0.01190928]\n",
      " [0.89994879 0.67325985 0.86952567 0.72533906 0.90215684]\n",
      " [0.20029846 0.83982207 0.95478647 0.56263314 0.72592071]\n",
      " [0.49280955 0.66126162 0.55043582 0.1429673  0.29827324]\n",
      " [0.78118476 0.44589219 0.78610623 0.76179763 0.52159594]]\n"
     ]
    }
   ],
   "source": [
    "matrix_5x5 = np.random.rand(5, 5)  # Random 5x5 matrix (values already between 0 and 1)\n",
    "# If you had arbitrary values, you would normalize as follows:\n",
    "# matrix_min = np.min(matrix_5x5)\n",
    "# matrix_max = np.max(matrix_5x5)\n",
    "# normalized_matrix = (matrix_5x5 - matrix_min) / (matrix_max - matrix_min)\n",
    "normalized_matrix = matrix_5x5  # Already normalized since np.random.rand() generates [0,1] values\n",
    "print(\"\\nRandom 5x5 matrix:\\n\", matrix_5x5)\n",
    "print(\"\\nNormalized 5x5 matrix:\\n\", normalized_matrix)\n"
   ]
  },
  {
   "cell_type": "markdown",
   "metadata": {},
   "source": [
    "3. Compute the determinant of a random 3x3 matrix."
   ]
  },
  {
   "cell_type": "code",
   "execution_count": 15,
   "metadata": {},
   "outputs": [
    {
     "name": "stdout",
     "output_type": "stream",
     "text": [
      "\n",
      "Random 3x3 matrix:\n",
      " [[0.94739853 0.73849781 0.50636607]\n",
      " [0.9770524  0.01952746 0.2276642 ]\n",
      " [0.54478737 0.20129994 0.53432444]]\n",
      "\n",
      "Determinant of the 3x3 matrix: -0.2332750047809137\n"
     ]
    }
   ],
   "source": [
    "matrix_3x3 = np.random.rand(3, 3)\n",
    "determinant = np.linalg.det(matrix_3x3)\n",
    "print(\"\\nRandom 3x3 matrix:\\n\", matrix_3x3)\n",
    "print(\"\\nDeterminant of the 3x3 matrix:\", determinant)\n"
   ]
  },
  {
   "cell_type": "markdown",
   "metadata": {},
   "source": [
    "4. Find the eigenvalues and eigenvectors of a symmetric 3x3 matrix."
   ]
  },
  {
   "cell_type": "code",
   "execution_count": 16,
   "metadata": {},
   "outputs": [
    {
     "name": "stdout",
     "output_type": "stream",
     "text": [
      "\n",
      "Symmetric 3x3 matrix:\n",
      " [[0.26137349 0.43339234 0.62274399]\n",
      " [0.43339234 0.55487738 0.44999043]\n",
      " [0.62274399 0.44999043 0.31779069]]\n",
      "\n",
      "Eigenvalues:\n",
      " [-0.33381049  0.08402894  1.38382311]\n",
      "Eigenvectors:\n",
      " [[-0.72436572  0.41252741 -0.55237256]\n",
      " [ 0.00417432 -0.79857906 -0.60187546]\n",
      " [ 0.68940328  0.43828373 -0.57674127]]\n"
     ]
    }
   ],
   "source": [
    "# Create a symmetric matrix. One way is to create a random matrix and then symmetrize it.\n",
    "A = np.random.rand(3, 3)\n",
    "symmetric_matrix = (A + A.T) / 2  # Ensures symmetry.\n",
    "eigenvalues, eigenvectors = np.linalg.eigh(symmetric_matrix)  # 'eigh' is for Hermitian (symmetric) matrices.\n",
    "print(\"\\nSymmetric 3x3 matrix:\\n\", symmetric_matrix)\n",
    "print(\"\\nEigenvalues:\\n\", eigenvalues)\n",
    "print(\"Eigenvectors:\\n\", eigenvectors)"
   ]
  },
  {
   "cell_type": "markdown",
   "metadata": {},
   "source": [
    "5. Perform element-wise multiplication of two matrices of the same shape."
   ]
  },
  {
   "cell_type": "code",
   "execution_count": 17,
   "metadata": {},
   "outputs": [
    {
     "name": "stdout",
     "output_type": "stream",
     "text": [
      "\n",
      "Matrix 1:\n",
      " [[0.58513726 0.09664744 0.1823847  0.56901647]\n",
      " [0.09956232 0.47533743 0.93628673 0.18589126]\n",
      " [0.12849445 0.32065037 0.0985805  0.69448787]\n",
      " [0.1075098  0.78605082 0.75493252 0.2064701 ]]\n",
      "\n",
      "Matrix 2:\n",
      " [[0.97603693 0.1785385  0.88901546 0.5156531 ]\n",
      " [0.33014928 0.20038661 0.76548173 0.29920825]\n",
      " [0.63561452 0.32097914 0.10967579 0.95344027]\n",
      " [0.93505813 0.73604325 0.46267608 0.02865021]]\n",
      "\n",
      "Element-wise multiplication of Matrix 1 and Matrix 2:\n",
      " [[0.57111558 0.01725529 0.16214282 0.29341511]\n",
      " [0.03287043 0.09525126 0.71671039 0.0556202 ]\n",
      " [0.08167294 0.10292208 0.01081189 0.6621527 ]\n",
      " [0.10052792 0.57856741 0.34928922 0.00591541]]\n"
     ]
    }
   ],
   "source": [
    "matrix1 = np.random.rand(4, 4)  # Example 4x4 matrix.\n",
    "matrix2 = np.random.rand(4, 4)  # Another 4x4 matrix.\n",
    "elementwise_product = np.multiply(matrix1, matrix2)  # Alternatively, use matrix1 * matrix2.\n",
    "print(\"\\nMatrix 1:\\n\", matrix1)\n",
    "print(\"\\nMatrix 2:\\n\", matrix2)\n",
    "print(\"\\nElement-wise multiplication of Matrix 1 and Matrix 2:\\n\", elementwise_product)"
   ]
  }
 ],
 "metadata": {
  "kernelspec": {
   "display_name": "base",
   "language": "python",
   "name": "python3"
  },
  "language_info": {
   "codemirror_mode": {
    "name": "ipython",
    "version": 3
   },
   "file_extension": ".py",
   "mimetype": "text/x-python",
   "name": "python",
   "nbconvert_exporter": "python",
   "pygments_lexer": "ipython3",
   "version": "3.12.4"
  }
 },
 "nbformat": 4,
 "nbformat_minor": 2
}
