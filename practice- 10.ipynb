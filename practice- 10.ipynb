{
 "cells": [
  {
   "cell_type": "code",
   "execution_count": 7,
   "metadata": {},
   "outputs": [],
   "source": [
    "import numpy as np\n",
    "import pandas as pd"
   ]
  },
  {
   "cell_type": "code",
   "execution_count": 8,
   "metadata": {},
   "outputs": [],
   "source": [
    "df = pd.read_csv('C:/Users/sapta/Downloads/Sales_Dataset.csv')\n"
   ]
  },
  {
   "cell_type": "code",
   "execution_count": 9,
   "metadata": {},
   "outputs": [
    {
     "data": {
      "application/vnd.microsoft.datawrangler.viewer.v0+json": {
       "columns": [
        {
         "name": "index",
         "rawType": "int64",
         "type": "integer"
        },
        {
         "name": "Customer ID",
         "rawType": "int64",
         "type": "integer"
        },
        {
         "name": "Customer Name",
         "rawType": "object",
         "type": "string"
        },
        {
         "name": "Date",
         "rawType": "object",
         "type": "string"
        },
        {
         "name": "Product Name",
         "rawType": "object",
         "type": "string"
        },
        {
         "name": "Category",
         "rawType": "object",
         "type": "string"
        },
        {
         "name": "Quantity",
         "rawType": "int64",
         "type": "integer"
        },
        {
         "name": "Unit Price",
         "rawType": "int64",
         "type": "integer"
        },
        {
         "name": "Total Price",
         "rawType": "int64",
         "type": "integer"
        },
        {
         "name": "City",
         "rawType": "object",
         "type": "string"
        }
       ],
       "conversionMethod": "pd.DataFrame",
       "ref": "28b4da2e-efc8-4b2b-be31-6df4512dc63b",
       "rows": [
        [
         "0",
         "7166",
         "Suman",
         "2025-03-05",
         "Flavored Condom",
         "Condoms",
         "2",
         "200",
         "400",
         "Delhi"
        ],
        [
         "1",
         "3562",
         "Vikram",
         "2025-02-17",
         "Cock Ring",
         "Sex Toys",
         "2",
         "800",
         "1600",
         "Ahmedabad"
        ],
        [
         "2",
         "9249",
         "Neha",
         "2025-03-01",
         "Anal Beads",
         "Sex Toys",
         "3",
         "1500",
         "4500",
         "Mumbai"
        ],
        [
         "3",
         "9249",
         "Neha",
         "2025-03-01",
         "Sports Bra",
         "Female Undergarments",
         "2",
         "700",
         "1400",
         "Mumbai"
        ],
        [
         "4",
         "9249",
         "Neha",
         "2025-03-01",
         "Ultra Thin Condom",
         "Condoms",
         "3",
         "250",
         "750",
         "Mumbai"
        ],
        [
         "5",
         "5248",
         "Ritu",
         "2025-02-22",
         "Lace Panty",
         "Female Undergarments",
         "1",
         "400",
         "400",
         "Lucknow"
        ],
        [
         "6",
         "5248",
         "Ritu",
         "2025-02-22",
         "Large Size Condom",
         "Condoms",
         "1",
         "350",
         "350",
         "Lucknow"
        ],
        [
         "7",
         "5248",
         "Ritu",
         "2025-02-22",
         "Lubricant",
         "Sex Toys",
         "2",
         "500",
         "1000",
         "Lucknow"
        ],
        [
         "8",
         "5248",
         "Ritu",
         "2025-02-22",
         "Mini Skirt",
         "Bold Sexy Female Dress",
         "2",
         "700",
         "1400",
         "Lucknow"
        ],
        [
         "9",
         "4059",
         "Pooja",
         "2025-02-20",
         "Ultra Thin Condom",
         "Condoms",
         "3",
         "250",
         "750",
         "Chennai"
        ],
        [
         "10",
         "2583",
         "Amit",
         "2025-02-20",
         "Cock Ring",
         "Sex Toys",
         "1",
         "800",
         "800",
         "Delhi"
        ],
        [
         "11",
         "2583",
         "Amit",
         "2025-02-20",
         "Crop Top",
         "Bold Sexy Female Dress",
         "3",
         "600",
         "1800",
         "Delhi"
        ],
        [
         "12",
         "2583",
         "Amit",
         "2025-02-20",
         "Padded Bra",
         "Female Undergarments",
         "1",
         "800",
         "800",
         "Delhi"
        ],
        [
         "13",
         "2583",
         "Amit",
         "2025-02-20",
         "Ultra Thin Condom",
         "Condoms",
         "3",
         "250",
         "750",
         "Delhi"
        ],
        [
         "14",
         "8785",
         "Kunal",
         "2025-03-11",
         "Mini Skirt",
         "Bold Sexy Female Dress",
         "3",
         "700",
         "2100",
         "Chennai"
        ],
        [
         "15",
         "8785",
         "Kunal",
         "2025-03-11",
         "Dildo",
         "Sex Toys",
         "2",
         "2000",
         "4000",
         "Chennai"
        ],
        [
         "16",
         "2850",
         "Rahul",
         "2025-03-04",
         "Padded Bra",
         "Female Undergarments",
         "1",
         "800",
         "800",
         "Kolkata"
        ],
        [
         "17",
         "2850",
         "Rahul",
         "2025-03-04",
         "Anal Beads",
         "Sex Toys",
         "3",
         "1500",
         "4500",
         "Kolkata"
        ],
        [
         "18",
         "8808",
         "Ritu",
         "2025-03-02",
         "Thong Panty",
         "Female Undergarments",
         "2",
         "300",
         "600",
         "Ahmedabad"
        ],
        [
         "19",
         "8808",
         "Ritu",
         "2025-03-02",
         "Lehenga",
         "Bold Sexy Female Dress",
         "1",
         "3000",
         "3000",
         "Ahmedabad"
        ],
        [
         "20",
         "8808",
         "Ritu",
         "2025-03-02",
         "Lubricant",
         "Sex Toys",
         "2",
         "500",
         "1000",
         "Ahmedabad"
        ],
        [
         "21",
         "8808",
         "Ritu",
         "2025-03-02",
         "Ribbed Condom",
         "Condoms",
         "2",
         "300",
         "600",
         "Ahmedabad"
        ],
        [
         "22",
         "9403",
         "Rahul",
         "2025-02-27",
         "Padded Bra",
         "Female Undergarments",
         "2",
         "800",
         "1600",
         "Bangalore"
        ],
        [
         "23",
         "9403",
         "Rahul",
         "2025-02-27",
         "Vibrator",
         "Sex Toys",
         "3",
         "2500",
         "7500",
         "Bangalore"
        ],
        [
         "24",
         "9403",
         "Rahul",
         "2025-02-27",
         "Mini Skirt",
         "Bold Sexy Female Dress",
         "3",
         "700",
         "2100",
         "Bangalore"
        ],
        [
         "25",
         "9403",
         "Rahul",
         "2025-02-27",
         "Ribbed Condom",
         "Condoms",
         "3",
         "300",
         "900",
         "Bangalore"
        ],
        [
         "26",
         "9822",
         "Dev",
         "2025-03-09",
         "Vibrator",
         "Sex Toys",
         "2",
         "2500",
         "5000",
         "Lucknow"
        ],
        [
         "27",
         "9822",
         "Dev",
         "2025-03-09",
         "Sports Bra",
         "Female Undergarments",
         "3",
         "700",
         "2100",
         "Lucknow"
        ],
        [
         "28",
         "9822",
         "Dev",
         "2025-03-09",
         "Large Size Condom",
         "Condoms",
         "2",
         "350",
         "700",
         "Lucknow"
        ],
        [
         "29",
         "9565",
         "Arjun",
         "2025-02-15",
         "Ribbed Condom",
         "Condoms",
         "3",
         "300",
         "900",
         "Bangalore"
        ],
        [
         "30",
         "9565",
         "Arjun",
         "2025-02-15",
         "Vibrator",
         "Sex Toys",
         "1",
         "2500",
         "2500",
         "Bangalore"
        ],
        [
         "31",
         "9565",
         "Arjun",
         "2025-02-15",
         "Lace Panty",
         "Female Undergarments",
         "3",
         "400",
         "1200",
         "Bangalore"
        ],
        [
         "32",
         "8531",
         "Priya",
         "2025-03-01",
         "Lehenga",
         "Bold Sexy Female Dress",
         "2",
         "3000",
         "6000",
         "Bangalore"
        ],
        [
         "33",
         "8531",
         "Priya",
         "2025-03-01",
         "Cock Ring",
         "Sex Toys",
         "1",
         "800",
         "800",
         "Bangalore"
        ],
        [
         "34",
         "3448",
         "Isha",
         "2025-02-27",
         "Shapewear",
         "Female Undergarments",
         "3",
         "1200",
         "3600",
         "Mumbai"
        ],
        [
         "35",
         "7353",
         "Arjun",
         "2025-02-18",
         "Flavored Condom",
         "Condoms",
         "2",
         "200",
         "400",
         "Hyderabad"
        ],
        [
         "36",
         "3862",
         "Rahul",
         "2025-03-05",
         "Thong Panty",
         "Female Undergarments",
         "1",
         "300",
         "300",
         "Lucknow"
        ],
        [
         "37",
         "3862",
         "Rahul",
         "2025-03-05",
         "Ultra Thin Condom",
         "Condoms",
         "1",
         "250",
         "250",
         "Lucknow"
        ],
        [
         "38",
         "3862",
         "Rahul",
         "2025-03-05",
         "Lubricant",
         "Sex Toys",
         "1",
         "500",
         "500",
         "Lucknow"
        ],
        [
         "39",
         "6983",
         "Rakesh",
         "2025-02-28",
         "Backless Blouse",
         "Bold Sexy Female Dress",
         "1",
         "800",
         "800",
         "Delhi"
        ],
        [
         "40",
         "6983",
         "Rakesh",
         "2025-02-28",
         "Lace Panty",
         "Female Undergarments",
         "3",
         "400",
         "1200",
         "Delhi"
        ],
        [
         "41",
         "6983",
         "Rakesh",
         "2025-02-28",
         "Ultra Thin Condom",
         "Condoms",
         "1",
         "250",
         "250",
         "Delhi"
        ],
        [
         "42",
         "6983",
         "Rakesh",
         "2025-02-28",
         "Dildo",
         "Sex Toys",
         "1",
         "2000",
         "2000",
         "Delhi"
        ],
        [
         "43",
         "7353",
         "Neha",
         "2025-02-22",
         "Bondage Set",
         "Sex Toys",
         "3",
         "3500",
         "10500",
         "Kolkata"
        ],
        [
         "44",
         "5524",
         "Anjali",
         "2025-02-13",
         "Vibrator",
         "Sex Toys",
         "2",
         "2500",
         "5000",
         "Pune"
        ],
        [
         "45",
         "5524",
         "Anjali",
         "2025-02-13",
         "Sports Bra",
         "Female Undergarments",
         "3",
         "700",
         "2100",
         "Pune"
        ],
        [
         "46",
         "5524",
         "Anjali",
         "2025-02-13",
         "Ultra Thin Condom",
         "Condoms",
         "2",
         "250",
         "500",
         "Pune"
        ],
        [
         "47",
         "5569",
         "Rakesh",
         "2025-03-07",
         "Shapewear",
         "Female Undergarments",
         "1",
         "1200",
         "1200",
         "Ahmedabad"
        ],
        [
         "48",
         "5569",
         "Rakesh",
         "2025-03-07",
         "Dildo",
         "Sex Toys",
         "3",
         "2000",
         "6000",
         "Ahmedabad"
        ],
        [
         "49",
         "5569",
         "Rakesh",
         "2025-03-07",
         "Lehenga",
         "Bold Sexy Female Dress",
         "2",
         "3000",
         "6000",
         "Ahmedabad"
        ]
       ],
       "shape": {
        "columns": 9,
        "rows": 242
       }
      },
      "text/html": [
       "<div>\n",
       "<style scoped>\n",
       "    .dataframe tbody tr th:only-of-type {\n",
       "        vertical-align: middle;\n",
       "    }\n",
       "\n",
       "    .dataframe tbody tr th {\n",
       "        vertical-align: top;\n",
       "    }\n",
       "\n",
       "    .dataframe thead th {\n",
       "        text-align: right;\n",
       "    }\n",
       "</style>\n",
       "<table border=\"1\" class=\"dataframe\">\n",
       "  <thead>\n",
       "    <tr style=\"text-align: right;\">\n",
       "      <th></th>\n",
       "      <th>Customer ID</th>\n",
       "      <th>Customer Name</th>\n",
       "      <th>Date</th>\n",
       "      <th>Product Name</th>\n",
       "      <th>Category</th>\n",
       "      <th>Quantity</th>\n",
       "      <th>Unit Price</th>\n",
       "      <th>Total Price</th>\n",
       "      <th>City</th>\n",
       "    </tr>\n",
       "  </thead>\n",
       "  <tbody>\n",
       "    <tr>\n",
       "      <th>0</th>\n",
       "      <td>7166</td>\n",
       "      <td>Suman</td>\n",
       "      <td>2025-03-05</td>\n",
       "      <td>Flavored Condom</td>\n",
       "      <td>Condoms</td>\n",
       "      <td>2</td>\n",
       "      <td>200</td>\n",
       "      <td>400</td>\n",
       "      <td>Delhi</td>\n",
       "    </tr>\n",
       "    <tr>\n",
       "      <th>1</th>\n",
       "      <td>3562</td>\n",
       "      <td>Vikram</td>\n",
       "      <td>2025-02-17</td>\n",
       "      <td>Cock Ring</td>\n",
       "      <td>Sex Toys</td>\n",
       "      <td>2</td>\n",
       "      <td>800</td>\n",
       "      <td>1600</td>\n",
       "      <td>Ahmedabad</td>\n",
       "    </tr>\n",
       "    <tr>\n",
       "      <th>2</th>\n",
       "      <td>9249</td>\n",
       "      <td>Neha</td>\n",
       "      <td>2025-03-01</td>\n",
       "      <td>Anal Beads</td>\n",
       "      <td>Sex Toys</td>\n",
       "      <td>3</td>\n",
       "      <td>1500</td>\n",
       "      <td>4500</td>\n",
       "      <td>Mumbai</td>\n",
       "    </tr>\n",
       "    <tr>\n",
       "      <th>3</th>\n",
       "      <td>9249</td>\n",
       "      <td>Neha</td>\n",
       "      <td>2025-03-01</td>\n",
       "      <td>Sports Bra</td>\n",
       "      <td>Female Undergarments</td>\n",
       "      <td>2</td>\n",
       "      <td>700</td>\n",
       "      <td>1400</td>\n",
       "      <td>Mumbai</td>\n",
       "    </tr>\n",
       "    <tr>\n",
       "      <th>4</th>\n",
       "      <td>9249</td>\n",
       "      <td>Neha</td>\n",
       "      <td>2025-03-01</td>\n",
       "      <td>Ultra Thin Condom</td>\n",
       "      <td>Condoms</td>\n",
       "      <td>3</td>\n",
       "      <td>250</td>\n",
       "      <td>750</td>\n",
       "      <td>Mumbai</td>\n",
       "    </tr>\n",
       "    <tr>\n",
       "      <th>...</th>\n",
       "      <td>...</td>\n",
       "      <td>...</td>\n",
       "      <td>...</td>\n",
       "      <td>...</td>\n",
       "      <td>...</td>\n",
       "      <td>...</td>\n",
       "      <td>...</td>\n",
       "      <td>...</td>\n",
       "      <td>...</td>\n",
       "    </tr>\n",
       "    <tr>\n",
       "      <th>237</th>\n",
       "      <td>3772</td>\n",
       "      <td>Vikram</td>\n",
       "      <td>2025-02-15</td>\n",
       "      <td>Anal Beads</td>\n",
       "      <td>Sex Toys</td>\n",
       "      <td>2</td>\n",
       "      <td>1500</td>\n",
       "      <td>3000</td>\n",
       "      <td>Bangalore</td>\n",
       "    </tr>\n",
       "    <tr>\n",
       "      <th>238</th>\n",
       "      <td>9780</td>\n",
       "      <td>Priya</td>\n",
       "      <td>2025-03-12</td>\n",
       "      <td>Mini Skirt</td>\n",
       "      <td>Bold Sexy Female Dress</td>\n",
       "      <td>1</td>\n",
       "      <td>700</td>\n",
       "      <td>700</td>\n",
       "      <td>Hyderabad</td>\n",
       "    </tr>\n",
       "    <tr>\n",
       "      <th>239</th>\n",
       "      <td>9780</td>\n",
       "      <td>Priya</td>\n",
       "      <td>2025-03-12</td>\n",
       "      <td>Lace Bra</td>\n",
       "      <td>Female Undergarments</td>\n",
       "      <td>1</td>\n",
       "      <td>500</td>\n",
       "      <td>500</td>\n",
       "      <td>Hyderabad</td>\n",
       "    </tr>\n",
       "    <tr>\n",
       "      <th>240</th>\n",
       "      <td>3624</td>\n",
       "      <td>Priya</td>\n",
       "      <td>2025-02-27</td>\n",
       "      <td>Padded Bra</td>\n",
       "      <td>Female Undergarments</td>\n",
       "      <td>3</td>\n",
       "      <td>800</td>\n",
       "      <td>2400</td>\n",
       "      <td>Mumbai</td>\n",
       "    </tr>\n",
       "    <tr>\n",
       "      <th>241</th>\n",
       "      <td>3624</td>\n",
       "      <td>Priya</td>\n",
       "      <td>2025-02-27</td>\n",
       "      <td>Lubricant</td>\n",
       "      <td>Sex Toys</td>\n",
       "      <td>2</td>\n",
       "      <td>500</td>\n",
       "      <td>1000</td>\n",
       "      <td>Mumbai</td>\n",
       "    </tr>\n",
       "  </tbody>\n",
       "</table>\n",
       "<p>242 rows × 9 columns</p>\n",
       "</div>"
      ],
      "text/plain": [
       "     Customer ID Customer Name        Date       Product Name  \\\n",
       "0           7166         Suman  2025-03-05    Flavored Condom   \n",
       "1           3562        Vikram  2025-02-17          Cock Ring   \n",
       "2           9249          Neha  2025-03-01         Anal Beads   \n",
       "3           9249          Neha  2025-03-01         Sports Bra   \n",
       "4           9249          Neha  2025-03-01  Ultra Thin Condom   \n",
       "..           ...           ...         ...                ...   \n",
       "237         3772        Vikram  2025-02-15         Anal Beads   \n",
       "238         9780         Priya  2025-03-12         Mini Skirt   \n",
       "239         9780         Priya  2025-03-12           Lace Bra   \n",
       "240         3624         Priya  2025-02-27         Padded Bra   \n",
       "241         3624         Priya  2025-02-27          Lubricant   \n",
       "\n",
       "                   Category  Quantity  Unit Price  Total Price       City  \n",
       "0                   Condoms         2         200          400      Delhi  \n",
       "1                  Sex Toys         2         800         1600  Ahmedabad  \n",
       "2                  Sex Toys         3        1500         4500     Mumbai  \n",
       "3      Female Undergarments         2         700         1400     Mumbai  \n",
       "4                   Condoms         3         250          750     Mumbai  \n",
       "..                      ...       ...         ...          ...        ...  \n",
       "237                Sex Toys         2        1500         3000  Bangalore  \n",
       "238  Bold Sexy Female Dress         1         700          700  Hyderabad  \n",
       "239    Female Undergarments         1         500          500  Hyderabad  \n",
       "240    Female Undergarments         3         800         2400     Mumbai  \n",
       "241                Sex Toys         2         500         1000     Mumbai  \n",
       "\n",
       "[242 rows x 9 columns]"
      ]
     },
     "execution_count": 9,
     "metadata": {},
     "output_type": "execute_result"
    }
   ],
   "source": [
    "df"
   ]
  },
  {
   "cell_type": "code",
   "execution_count": null,
   "metadata": {},
   "outputs": [
    {
     "name": "stdout",
     "output_type": "stream",
     "text": [
      "Earliest Date: 2025-02-11\n",
      "Latest Date: 2025-03-12\n",
      "Number of Unique Purchase Days: 28\n"
     ]
    }
   ],
   "source": [
    "# Load the CSV as a structured array.\n",
    "# Adjust the delimiter, encoding, and dtype if necessary.\n",
    "data = np.genfromtxt('C:/Users/sapta/Downloads/Sales_Dataset.csv', delimiter=',', names=True, dtype=None, encoding='utf-8')\n",
    "\n",
    "# Convert the \"Date\" column to datetime64[D]\n",
    "dates = data['Date'].astype('datetime64[D]')\n",
    "\n",
    "# Earliest and latest dates\n",
    "earliest_date = dates.min()\n",
    "latest_date = dates.max()\n",
    "\n",
    "# Unique purchase days\n",
    "unique_dates = np.unique(dates)\n",
    "num_unique_days = unique_dates.size\n",
    "\n",
    "print(\"Earliest Date:\", earliest_date)\n",
    "print(\"Latest Date:\", latest_date)\n",
    "print(\"Number of Unique Purchase Days:\", num_unique_days)\n"
   ]
  },
  {
   "cell_type": "markdown",
   "metadata": {},
   "source": [
    "i: Monthly Sales Analysis"
   ]
  },
  {
   "cell_type": "code",
   "execution_count": 10,
   "metadata": {},
   "outputs": [
    {
     "name": "stdout",
     "output_type": "stream",
     "text": [
      "Unique Months: ['2025-02' '2025-03']\n",
      "Total Quantity per Month: [268. 229.]\n",
      "Total Revenue per Month: [263600. 246950.]\n",
      "Month with Highest Revenue: 2025-02\n"
     ]
    }
   ],
   "source": [
    "# Extract year-month from dates (using string slicing on ISO formatted dates)\n",
    "year_month = dates.astype('datetime64[M]')  # This gives the month resolution\n",
    "\n",
    "# Compute total quantity sold per month\n",
    "unique_months, month_indices = np.unique(year_month, return_inverse=True)\n",
    "# Sum quantities for each unique month\n",
    "quantities = data['Quantity'].astype(np.float64)\n",
    "total_quantity_per_month = np.zeros(unique_months.size)\n",
    "for i in range(unique_months.size):\n",
    "    total_quantity_per_month[i] = quantities[month_indices == i].sum()\n",
    "\n",
    "# Total revenue per month (for Total Price)\n",
    "total_price = data['Total_Price'].astype(np.float64)\n",
    "total_revenue_per_month = np.zeros(unique_months.size)\n",
    "for i in range(unique_months.size):\n",
    "    total_revenue_per_month[i] = total_price[month_indices == i].sum()\n",
    "\n",
    "# Which month had the highest revenue?\n",
    "max_rev_index = np.argmax(total_revenue_per_month)\n",
    "best_month = unique_months[max_rev_index]\n",
    "\n",
    "print(\"Unique Months:\", unique_months)\n",
    "print(\"Total Quantity per Month:\", total_quantity_per_month)\n",
    "print(\"Total Revenue per Month:\", total_revenue_per_month)\n",
    "print(\"Month with Highest Revenue:\", best_month)\n"
   ]
  },
  {
   "cell_type": "markdown",
   "metadata": {},
   "source": [
    "ii: Product Category Performance"
   ]
  },
  {
   "cell_type": "code",
   "execution_count": 11,
   "metadata": {},
   "outputs": [
    {
     "name": "stdout",
     "output_type": "stream",
     "text": [
      "Categories: ['Bold Sexy Female Dress' 'Condoms' 'Female Undergarments' 'Sex Toys']\n",
      "Average Sale per Category: [2929.8245614   612.5        1453.22580645 3439.68253968]\n",
      "Category with Highest Average Sale: Sex Toys\n"
     ]
    }
   ],
   "source": [
    "# Get unique categories\n",
    "categories, category_indices = np.unique(data['Category'], return_inverse=True)\n",
    "\n",
    "# Initialize an array to hold the average sale per transaction per category\n",
    "avg_sale_per_category = np.zeros(categories.size)\n",
    "\n",
    "for i in range(categories.size):\n",
    "    cat_mask = (category_indices == i)\n",
    "    # Compute average for the category\n",
    "    avg_sale_per_category[i] = total_price[cat_mask].mean()\n",
    "\n",
    "# Identify the category with the highest average sale\n",
    "max_avg_index = np.argmax(avg_sale_per_category)\n",
    "best_category = categories[max_avg_index]\n",
    "\n",
    "print(\"Categories:\", categories)\n",
    "print(\"Average Sale per Category:\", avg_sale_per_category)\n",
    "print(\"Category with Highest Average Sale:\", best_category)\n"
   ]
  },
  {
   "cell_type": "markdown",
   "metadata": {},
   "source": [
    "iii: Top 3 Cities by Revenue"
   ]
  },
  {
   "cell_type": "code",
   "execution_count": 13,
   "metadata": {},
   "outputs": [
    {
     "name": "stdout",
     "output_type": "stream",
     "text": [
      "Total Revenue per City: {np.str_('Ahmedabad'): np.float64(44100.0), np.str_('Bangalore'): np.float64(60500.0), np.str_('Chennai'): np.float64(39450.0), np.str_('Delhi'): np.float64(47100.0), np.str_('Hyderabad'): np.float64(33300.0), np.str_('Jaipur'): np.float64(44800.0), np.str_('Kolkata'): np.float64(108400.0), np.str_('Lucknow'): np.float64(58600.0), np.str_('Mumbai'): np.float64(44050.0), np.str_('Pune'): np.float64(30250.0)}\n",
      "Top 3 Cities by Revenue: [(np.str_('Kolkata'), np.float64(108400.0)), (np.str_('Bangalore'), np.float64(60500.0)), (np.str_('Lucknow'), np.float64(58600.0))]\n"
     ]
    }
   ],
   "source": [
    "# Get unique cities\n",
    "cities, city_indices = np.unique(data['City'], return_inverse=True)\n",
    "\n",
    "total_revenue_per_city = np.zeros(cities.size)\n",
    "for i in range(cities.size):\n",
    "    total_revenue_per_city[i] = total_price[city_indices == i].sum()\n",
    "\n",
    "# Get indices for top 3 cities\n",
    "top3_indices = np.argsort(total_revenue_per_city)[-3:][::-1]\n",
    "top3_cities = cities[top3_indices]\n",
    "top3_revenues = total_revenue_per_city[top3_indices]\n",
    "\n",
    "print(\"Total Revenue per City:\", dict(zip(cities, total_revenue_per_city)))\n",
    "print(\"Top 3 Cities by Revenue:\", list(zip(top3_cities, top3_revenues)))\n"
   ]
  },
  {
   "cell_type": "markdown",
   "metadata": {},
   "source": [
    "iv: Customer Lifetime Value (CLV) Calculation"
   ]
  },
  {
   "cell_type": "code",
   "execution_count": 16,
   "metadata": {},
   "outputs": [
    {
     "name": "stdout",
     "output_type": "stream",
     "text": [
      "Top 5 Customers by Lifetime Revenue:\n",
      "Shape of data: (242,)\n",
      "Shape of data: (242,)\n",
      "Shape of data: (242,)\n",
      "Shape of data: (242,)\n",
      "Shape of data: (242,)\n",
      "Length of Customer_ID column: (242,)\n",
      "Length of Total_Price column: (242,)\n"
     ]
    }
   ],
   "source": [
    "# Get unique customer IDs\n",
    "customers, customer_indices = np.unique(data['Customer_ID'], return_inverse=True)\n",
    "\n",
    "num_customers = customers.size\n",
    "total_revenue_per_customer = np.zeros(num_customers)\n",
    "transaction_count_per_customer = np.zeros(num_customers)\n",
    "\n",
    "for i in range(num_customers):\n",
    "    mask = (customer_indices == i)\n",
    "    total_revenue_per_customer[i] = total_price[mask].sum()\n",
    "    transaction_count_per_customer[i] = mask.sum()\n",
    "\n",
    "# Identify top 5 customers by revenue\n",
    "top5_indices = np.argsort(total_revenue_per_customer)[-5:][::-1]\n",
    "top5_customers = customers[top5_indices]\n",
    "top5_revenues = total_revenue_per_customer[top5_indices]\n",
    "\n",
    "print(\"Top 5 Customers by Lifetime Revenue:\")\n",
    "for cid, rev in zip(top5_customers, top5_revenues):\n",
    "    print(\"Shape of data:\", data.shape)  # structured array overall shape\n",
    "print(\"Length of Customer_ID column:\", data[\"Customer_ID\"].shape)\n",
    "print(\"Length of Total_Price column:\", data[\"Total_Price\"].shape)\n",
    "\n",
    "# If these do not match, you know the problem is in how the CSV is parsed.\n"
   ]
  },
  {
   "cell_type": "markdown",
   "metadata": {},
   "source": [
    "v: High-Value Transactions Detection"
   ]
  },
  {
   "cell_type": "code",
   "execution_count": 17,
   "metadata": {},
   "outputs": [
    {
     "name": "stdout",
     "output_type": "stream",
     "text": [
      "90th Percentile Value: 5900.0000000000055\n",
      "Number of High-Value Transactions: 25\n",
      "High-Value Revenue Percentage: 35.49%\n"
     ]
    }
   ],
   "source": [
    "# Calculate the 90th percentile for Total Price\n",
    "percentile_90 = np.percentile(total_price, 90)\n",
    "\n",
    "# Create a mask for high-value transactions\n",
    "high_value_mask = total_price > percentile_90\n",
    "num_high_value = high_value_mask.sum()\n",
    "\n",
    "# Revenue from high-value transactions and percentage of total revenue\n",
    "high_value_revenue = total_price[high_value_mask].sum()\n",
    "percentage_revenue = (high_value_revenue / total_price.sum()) * 100\n",
    "\n",
    "print(\"90th Percentile Value:\", percentile_90)\n",
    "print(\"Number of High-Value Transactions:\", num_high_value)\n",
    "print(\"High-Value Revenue Percentage: {:.2f}%\".format(percentage_revenue))\n"
   ]
  }
 ],
 "metadata": {
  "kernelspec": {
   "display_name": "base",
   "language": "python",
   "name": "python3"
  },
  "language_info": {
   "codemirror_mode": {
    "name": "ipython",
    "version": 3
   },
   "file_extension": ".py",
   "mimetype": "text/x-python",
   "name": "python",
   "nbconvert_exporter": "python",
   "pygments_lexer": "ipython3",
   "version": "3.12.4"
  }
 },
 "nbformat": 4,
 "nbformat_minor": 2
}
