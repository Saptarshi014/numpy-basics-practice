{
 "cells": [
  {
   "cell_type": "markdown",
   "metadata": {},
   "source": [
    "Create an array of 10 zeros."
   ]
  },
  {
   "cell_type": "code",
   "execution_count": 1,
   "metadata": {},
   "outputs": [
    {
     "name": "stdout",
     "output_type": "stream",
     "text": [
      "[0. 0. 0. 0. 0. 0. 0. 0. 0. 0.]\n"
     ]
    }
   ],
   "source": [
    "import numpy as np\n",
    "\n",
    "zeros_array = np.zeros(10)\n",
    "\n",
    "print(zeros_array)\n"
   ]
  },
  {
   "cell_type": "markdown",
   "metadata": {},
   "source": [
    "Create an array of 10 fives."
   ]
  },
  {
   "cell_type": "code",
   "execution_count": 2,
   "metadata": {},
   "outputs": [
    {
     "name": "stdout",
     "output_type": "stream",
     "text": [
      "Array of 10 fives:\n",
      " [5 5 5 5 5 5 5 5 5 5]\n"
     ]
    }
   ],
   "source": [
    "array_of_fives = np.full(10, 5)\n",
    "print(\"Array of 10 fives:\\n\", array_of_fives)"
   ]
  },
  {
   "cell_type": "markdown",
   "metadata": {},
   "source": [
    "Create an array of integers from 10 to 50."
   ]
  },
  {
   "cell_type": "code",
   "execution_count": 3,
   "metadata": {},
   "outputs": [
    {
     "name": "stdout",
     "output_type": "stream",
     "text": [
      "\n",
      "Array of integers from 10 to 50:\n",
      " [10 11 12 13 14 15 16 17 18 19 20 21 22 23 24 25 26 27 28 29 30 31 32 33\n",
      " 34 35 36 37 38 39 40 41 42 43 44 45 46 47 48 49 50]\n"
     ]
    }
   ],
   "source": [
    "integers_10_to_50 = np.arange(10, 51)\n",
    "print(\"\\nArray of integers from 10 to 50:\\n\", integers_10_to_50)"
   ]
  },
  {
   "cell_type": "markdown",
   "metadata": {},
   "source": [
    "Create a 3x3 matrix with values ranging from 0 to 8."
   ]
  },
  {
   "cell_type": "code",
   "execution_count": 4,
   "metadata": {},
   "outputs": [
    {
     "name": "stdout",
     "output_type": "stream",
     "text": [
      "\n",
      "3x3 Matrix with values 0 to 8:\n",
      " [[0 1 2]\n",
      " [3 4 5]\n",
      " [6 7 8]]\n"
     ]
    }
   ],
   "source": [
    "matrix_0_to_8 = np.arange(9).reshape(3, 3)\n",
    "print(\"\\n3x3 Matrix with values 0 to 8:\\n\", matrix_0_to_8)"
   ]
  },
  {
   "cell_type": "markdown",
   "metadata": {},
   "source": [
    "Create a 5x5 identity matrix."
   ]
  },
  {
   "cell_type": "code",
   "execution_count": 5,
   "metadata": {},
   "outputs": [
    {
     "name": "stdout",
     "output_type": "stream",
     "text": [
      "\n",
      "5x5 Identity matrix:\n",
      " [[1. 0. 0. 0. 0.]\n",
      " [0. 1. 0. 0. 0.]\n",
      " [0. 0. 1. 0. 0.]\n",
      " [0. 0. 0. 1. 0.]\n",
      " [0. 0. 0. 0. 1.]]\n"
     ]
    }
   ],
   "source": [
    "identity_matrix = np.eye(5)\n",
    "print(\"\\n5x5 Identity matrix:\\n\", identity_matrix)"
   ]
  },
  {
   "cell_type": "markdown",
   "metadata": {},
   "source": [
    "Generate a random number between 0 and 1."
   ]
  },
  {
   "cell_type": "code",
   "execution_count": 6,
   "metadata": {},
   "outputs": [
    {
     "name": "stdout",
     "output_type": "stream",
     "text": [
      "\n",
      "Random number between 0 and 1:\n",
      " 0.3980996809536056\n"
     ]
    }
   ],
   "source": [
    "random_number = np.random.rand()\n",
    "print(\"\\nRandom number between 0 and 1:\\n\", random_number)"
   ]
  },
  {
   "cell_type": "markdown",
   "metadata": {},
   "source": [
    "Generate an array of 25 random numbers sampled from a standard normal distribution (mean=0, std=1)."
   ]
  },
  {
   "cell_type": "code",
   "execution_count": 7,
   "metadata": {},
   "outputs": [
    {
     "name": "stdout",
     "output_type": "stream",
     "text": [
      "\n",
      "Array of 25 random numbers from a standard normal distribution:\n",
      " [ 0.37865663 -0.86252815  1.83845201  0.69987363 -0.11691659  0.94329615\n",
      " -0.18122246 -0.0674412   0.17704685 -1.0281018   0.34052176  0.91160128\n",
      "  1.4192707   1.91723014 -0.31861838 -0.24985323 -0.40059136 -0.35252824\n",
      "  0.42796455  0.84921034  0.49642556  0.79567218  0.504235   -0.77651689\n",
      "  1.00826428]\n"
     ]
    }
   ],
   "source": [
    "random_normal_array = np.random.randn(25)  # mean=0, std=1 by default\n",
    "print(\"\\nArray of 25 random numbers from a standard normal distribution:\\n\", random_normal_array)"
   ]
  },
  {
   "cell_type": "markdown",
   "metadata": {},
   "source": [
    "Given array: numbers 1 to 25 reshaped into a 5x5 matrix."
   ]
  },
  {
   "cell_type": "code",
   "execution_count": 8,
   "metadata": {},
   "outputs": [
    {
     "name": "stdout",
     "output_type": "stream",
     "text": [
      "Original array:\n",
      " [[ 1  2  3  4  5]\n",
      " [ 6  7  8  9 10]\n",
      " [11 12 13 14 15]\n",
      " [16 17 18 19 20]\n",
      " [21 22 23 24 25]]\n"
     ]
    }
   ],
   "source": [
    "arr = np.arange(1, 26).reshape(5, 5)\n",
    "print(\"Original array:\\n\", arr)\n"
   ]
  },
  {
   "cell_type": "markdown",
   "metadata": {},
   "source": [
    " Extract the submatrix:\n",
    "    We need the submatrix:\n",
    "    [[12 13 14 15]\n",
    "     [17 18 19 20]\n",
    "     [22 23 24 25]]\n",
    "    These values come from rows 2 to 4 (0-indexed rows 2, 3, 4) and columns 1 to 4."
   ]
  },
  {
   "cell_type": "code",
   "execution_count": 9,
   "metadata": {},
   "outputs": [
    {
     "name": "stdout",
     "output_type": "stream",
     "text": [
      "\n",
      "Extracted submatrix:\n",
      " [[12 13 14 15]\n",
      " [17 18 19 20]\n",
      " [22 23 24 25]]\n"
     ]
    }
   ],
   "source": [
    "submatrix = arr[2:5, 1:5]\n",
    "print(\"\\nExtracted submatrix:\\n\", submatrix)\n"
   ]
  },
  {
   "cell_type": "markdown",
   "metadata": {},
   "source": [
    "Get the number 20."
   ]
  },
  {
   "cell_type": "code",
   "execution_count": 10,
   "metadata": {},
   "outputs": [
    {
     "name": "stdout",
     "output_type": "stream",
     "text": [
      "\n",
      "The number 20 is: 20\n"
     ]
    }
   ],
   "source": [
    "number_20 = arr[3, 4]\n",
    "print(\"\\nThe number 20 is:\", number_20)"
   ]
  },
  {
   "cell_type": "markdown",
   "metadata": {},
   "source": [
    "Get the column from 2 to 22 in steps of 5."
   ]
  },
  {
   "cell_type": "code",
   "execution_count": 11,
   "metadata": {},
   "outputs": [
    {
     "name": "stdout",
     "output_type": "stream",
     "text": [
      "\n",
      "Column with values from 2 to 22 in steps of 5:\n",
      " [ 2  7 12 17 22]\n"
     ]
    }
   ],
   "source": [
    "column = arr[:, 1]\n",
    "print(\"\\nColumn with values from 2 to 22 in steps of 5:\\n\", column)"
   ]
  }
 ],
 "metadata": {
  "kernelspec": {
   "display_name": "base",
   "language": "python",
   "name": "python3"
  },
  "language_info": {
   "codemirror_mode": {
    "name": "ipython",
    "version": 3
   },
   "file_extension": ".py",
   "mimetype": "text/x-python",
   "name": "python",
   "nbconvert_exporter": "python",
   "pygments_lexer": "ipython3",
   "version": "3.12.4"
  }
 },
 "nbformat": 4,
 "nbformat_minor": 2
}
